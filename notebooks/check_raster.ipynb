{
 "cells": [
  {
   "cell_type": "code",
   "execution_count": 6,
   "id": "2f2c40bf-09a4-43d3-825f-fa85e482f4bb",
   "metadata": {
    "tags": []
   },
   "outputs": [
    {
     "name": "stdout",
     "output_type": "stream",
     "text": [
      "🔥 Fire Pixel Count Distribution:\n",
      "  0 fires: 50538 pixels\n",
      "  1 fires: 1914 pixels\n"
     ]
    }
   ],
   "source": [
    "import rasterio\n",
    "import numpy as np\n",
    "\n",
    "# Path to your fire count raster\n",
    "os.chdir(\"/Users/sabbirdelowar/projects/wildfire_risk_UK\")\n",
    "path = \"data/labels/fire_label.tif\"\n",
    "\n",
    "with rasterio.open(path) as src:\n",
    "    arr = src.read(1)\n",
    "    nodata = src.nodata\n",
    "\n",
    "# Mask out NoData if defined\n",
    "if nodata is not None:\n",
    "    arr = np.where(arr == nodata, np.nan, arr)\n",
    "\n",
    "# Drop NaNs for counting\n",
    "arr_clean = arr[~np.isnan(arr)]\n",
    "\n",
    "# Count unique values\n",
    "unique, counts = np.unique(arr_clean, return_counts=True)\n",
    "fire_pixel_distribution = dict(zip(unique.astype(int), counts))\n",
    "\n",
    "print(\"🔥 Fire Pixel Count Distribution:\")\n",
    "for val, count in sorted(fire_pixel_distribution.items()):\n",
    "    print(f\"  {val} fires: {count} pixels\")\n"
   ]
  },
  {
   "cell_type": "code",
   "execution_count": null,
   "id": "aeb8fb82-dc6e-41df-a526-2b78f7601797",
   "metadata": {},
   "outputs": [],
   "source": []
  }
 ],
 "metadata": {
  "kernelspec": {
   "display_name": "wildfire-uk",
   "language": "python",
   "name": "wildfire-uk"
  },
  "language_info": {
   "codemirror_mode": {
    "name": "ipython",
    "version": 3
   },
   "file_extension": ".py",
   "mimetype": "text/x-python",
   "name": "python",
   "nbconvert_exporter": "python",
   "pygments_lexer": "ipython3",
   "version": "3.13.2"
  }
 },
 "nbformat": 4,
 "nbformat_minor": 5
}
